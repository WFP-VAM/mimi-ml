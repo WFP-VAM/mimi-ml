{
 "cells": [
  {
   "cell_type": "code",
   "execution_count": null,
   "id": "3d6a247b",
   "metadata": {},
   "outputs": [],
   "source": [
    "import sys\n",
    "sys.path.append('../')\n",
    "%reload_ext autoreload \n",
    "%autoreload 2"
   ]
  },
  {
   "cell_type": "code",
   "execution_count": null,
   "id": "4bc2c43e",
   "metadata": {},
   "outputs": [],
   "source": [
    "from general_functions import *\n",
    "from cross_country_functions import *"
   ]
  },
  {
   "cell_type": "code",
   "execution_count": null,
   "id": "789fc967",
   "metadata": {},
   "outputs": [],
   "source": [
    "from nigeria_functions import prepare_target_roster_geo_nga, actual_predicted_quantiles_weights_nga, actual_predicted_urban_weights_nga"
   ]
  },
  {
   "cell_type": "code",
   "execution_count": null,
   "id": "19776bcf",
   "metadata": {},
   "outputs": [],
   "source": [
    "from classification_class import *"
   ]
  },
  {
   "cell_type": "code",
   "execution_count": null,
   "id": "ec7d73be",
   "metadata": {},
   "outputs": [],
   "source": [
    "from visualisations import plot_precision_recall_curve, plot_roc_curve, visualise_actual_predicted_map, scatterplot_actual_predicted_percentage, barplots_sanity_wealth, barplots_sanity_area, create_roc_curve\n"
   ]
  },
  {
   "cell_type": "markdown",
   "id": "1c6fab43",
   "metadata": {},
   "source": [
    "### Prepare the data:"
   ]
  },
  {
   "cell_type": "code",
   "execution_count": null,
   "id": "7d782b80-6aa0-4d72-8211-128e795ba998",
   "metadata": {},
   "outputs": [],
   "source": [
    "features = pd.read_csv('../data/all_features.csv', index_col=0)\n",
    "features.index = features.index.astype(str)"
   ]
  },
  {
   "cell_type": "code",
   "execution_count": null,
   "id": "5925d5d8-0c14-41b5-b608-877d0e4a3ae9",
   "metadata": {},
   "outputs": [],
   "source": [
    "path_to_targets = '../data/ethiopia_nigeria_targets.csv'"
   ]
  },
  {
   "cell_type": "code",
   "execution_count": null,
   "id": "76b1cf82-c73d-4c0b-be47-2195cd4c8b70",
   "metadata": {},
   "outputs": [],
   "source": [
    "path_to_inventory = '../data/inventory_small.xlsx'"
   ]
  },
  {
   "cell_type": "code",
   "execution_count": null,
   "id": "7379562b-d231-435b-9dbb-4a03e0c45ded",
   "metadata": {},
   "outputs": [],
   "source": [
    "hh_roster_nga_weights = pd.read_csv('../data/nga/hh_roster_nga_weights.csv', index_col=0)\n",
    "hh_roster_nga_weights.hhid = hh_roster_nga_weights.hhid.astype(str)\n",
    "df_lsms_ram_roster_adm1 = pd.read_csv('../data/nga/df_lsms_ram_roster_adm1_nga.csv', index_col=0)\n",
    "df_lsms_ram_roster_adm1.hhid = df_lsms_ram_roster_adm1.hhid.astype(str)"
   ]
  },
  {
   "cell_type": "markdown",
   "id": "e7c8c6c6",
   "metadata": {},
   "source": [
    "create list to save the performances for each threshold"
   ]
  },
  {
   "cell_type": "code",
   "execution_count": null,
   "id": "6b52493f",
   "metadata": {},
   "outputs": [],
   "source": [
    "l_dict_thresholds_performances = []"
   ]
  },
  {
   "cell_type": "markdown",
   "id": "a7f5b812",
   "metadata": {},
   "source": [
    "Set threshold probability:"
   ]
  },
  {
   "cell_type": "code",
   "execution_count": null,
   "id": "b9386df2",
   "metadata": {},
   "outputs": [],
   "source": [
    "#manually set the probability threshold, it can be [0.15, 0.85], None is 0.5\n",
    "threshold_probability = 0.5 "
   ]
  },
  {
   "cell_type": "code",
   "execution_count": null,
   "id": "b7630550",
   "metadata": {},
   "outputs": [],
   "source": [
    "#True if you want to save the images\n",
    "save_image = False"
   ]
  },
  {
   "cell_type": "code",
   "execution_count": null,
   "id": "82af4411-bab4-4fb4-a73c-7acf7f93ba0c",
   "metadata": {},
   "outputs": [],
   "source": [
    "#set the micronutrient\n",
    "t = 'mimi_simple'"
   ]
  },
  {
   "cell_type": "code",
   "execution_count": null,
   "id": "d0da1a1c",
   "metadata": {},
   "outputs": [],
   "source": [
    "all_target_names = {'zn_ai': 'zinc', 'va_ai': 'vitamin A', 'fol_ai': 'folate', \n",
    "                    'vb12_ai': 'vitamin B12', 'fe_ai':'iron', 'mimi_simple': 'overall micronutrient'}"
   ]
  },
  {
   "cell_type": "code",
   "execution_count": null,
   "id": "8bed2e90",
   "metadata": {},
   "outputs": [],
   "source": [
    "#for t in ['zn_ai', 'va_ai', 'fol_ai', 'vb12_ai', 'fe_ai', 'mimi_simple']:\n",
    "for t in ['mimi_simple']:\n",
    "    \n",
    "    print(t)\n",
    "    \n",
    "    target_name = all_target_names[t]\n",
    "    \n",
    "    y, indexes = prepares_crosscountry_inputs('Ethiopia','Nigeria', t, path_to_targets= path_to_targets)\n",
    "     #---Model\n",
    "    #get the best random state\n",
    "    best_random_state = pd.read_csv('../data/results/perf_%s_ETH_undersampling_3.2_xgboost.csv'%t, index_col=0).best_random_state[0]\n",
    "    #set the classification object\n",
    "    classification = Classification(y=y, data_all=features, cross_country=True, train_indexes=indexes,\n",
    "                                    type_target=t, random_state=best_random_state, sampling='undersampling',\n",
    "                                    sampling_strategy=1)\n",
    "    #train the model using the best hyperparameters\n",
    "    model = classification.xgbclassification_best_model('../data/results/besthyper_%s_ETH_undersampling_3.2_XGBoost.csv'%t)\n",
    "    \n",
    "    #probalilities\n",
    "    y_proba = classification.y_proba(model)\n",
    "    \n",
    "    #---Performance---\n",
    "    if threshold_probability != None:\n",
    "        predictions = predictions_proba(y_proba, threshold_probability)\n",
    "    else:\n",
    "        predictions = classification.predictions(model)\n",
    "    perf_dict = classification.perf_ind_classification(predictions)\n",
    "    \n",
    "    array_precision, array_recall, average_pre_recall = calculates_precision_recall_auc(y_proba, classification, drop_intermediate=True)\n",
    "    #append average_pre_recall on perf_dict\n",
    "    perf_dict['average_pre_recall'] = average_pre_recall\n",
    "    array_fpr, array_tpr, rocauc_score = calculates_roc_auc(y_proba, classification, drop_intermediate=True)\n",
    "    #append roc scores on perf_dict\n",
    "    perf_dict['rocauc_score'] = rocauc_score\n",
    "    #plot and save precision-recall curve and roc curve\n",
    "    fig = plot_precision_recall_curve(classification, array_recall, array_precision, save=save_image, mn=t, iso3='NGA', title='risk of inadequate %s intake \\n (Ethiopia to Nigeria)' %target_name)\n",
    "    plot_roc_curve(classification, array_fpr, array_tpr, drop_intermediate=True, save=save_image, mn=t, iso3='NGA', title='risk of inadequate %s intake \\n (Ethiopia to Nigeria)' %target_name)\n",
    "    #calculate adjusted precision-recall and roc values and save them on the perf_dict\n",
    "    adjusted_roc_auc, adjusted_average_pre_recall = get_adjusted_values(classification, rocauc_score, average_pre_recall)\n",
    "    perf_dict['adjusted_rocauc'] = adjusted_roc_auc\n",
    "    perf_dict['adjusted_average_pre_recall'] = adjusted_average_pre_recall\n",
    "\n",
    "     #---Maps---\n",
    "    geo_df = get_geodata(adm0=182)\n",
    "    \n",
    "    predicted_actual_target = classification.df_predicted_actual(predictions, t, save=False)\n",
    "    target_roster = preprocess_roster_actual_predicted(predicted_actual_target, path_to_inventory, survey_id='NGA_2018_LSS_v01_M', hh_roster=hh_roster_nga_weights)\n",
    "    target_roster_geo = prepare_target_roster_geo_nga(df_lsms_ram_roster_adm1, target_roster)\n",
    "    \n",
    "    actual_predicted_perc = calculate_actual_predicted(target_roster_geo, survey_id='NGA_2018_LSS_v01_M', path_to_inventory=path_to_inventory, weights=True, rank=True)\n",
    "    for column in ['actual', 'predicted']:\n",
    "        if column=='actual':\n",
    "            title=''\n",
    "        else:\n",
    "            title='(T=%s)'%threshold_probability\n",
    "        visualise_actual_predicted_map(geo_df, actual_predicted_perc, column, comparison=True, iso3='NGA', threshold = threshold_probability, save=save_image, title=title,  mn=target_name)\n",
    "    for column2 in ['actual_rank', 'predicted_rank']:\n",
    "        visualise_actual_predicted_map(geo_df, actual_predicted_perc, column2, comparison=False, iso3='NGA', threshold = threshold_probability, save=save_image, mn=target_name)\n",
    "\n",
    "    #---Save performances---:\n",
    "    for k, v in perf_dict.items():\n",
    "        perf_dict[k] = [v]\n",
    "    df_perf_dict = pd.DataFrame(perf_dict)\n",
    "    \n",
    "    #create a list and save performances for every threshold\n",
    "    dict_thresholds_performances = {'threshold': threshold_probability, 'recall': df_perf_dict.recall[0], 'precision': df_perf_dict.precision[0], 'specificity': df_perf_dict.specificity[0]}\n",
    "    l_dict_thresholds_performances.append(dict_thresholds_performances)"
   ]
  },
  {
   "cell_type": "code",
   "execution_count": null,
   "id": "7be569c0",
   "metadata": {},
   "outputs": [],
   "source": [
    "scatterplot_actual_predicted_percentage(actual_predicted_perc, title='Percentage of risk of inadequate overall intake (ETH to NGA)', iso3='NGA', path = None, limin=0.1, limax=1, diff_threshold=0.95, fontsize=12, save=False)"
   ]
  },
  {
   "cell_type": "markdown",
   "id": "d716d7d3",
   "metadata": {},
   "source": [
    "## Sanity checks"
   ]
  },
  {
   "cell_type": "code",
   "execution_count": null,
   "id": "e9d136f9-9472-4db2-a4cc-e23cd13594e5",
   "metadata": {},
   "outputs": [],
   "source": [
    "df_quantiles_weights = pd.read_csv('../data/nga/df_quantiles_weights_nga.csv', index_col=0) "
   ]
  },
  {
   "cell_type": "code",
   "execution_count": null,
   "id": "7ad1e604",
   "metadata": {},
   "outputs": [],
   "source": [
    "df_quantiles_weights = actual_predicted_quantiles_weights_nga(df_quantiles_weights, predicted_actual_target)"
   ]
  },
  {
   "cell_type": "code",
   "execution_count": null,
   "id": "3bc9878b",
   "metadata": {},
   "outputs": [],
   "source": [
    "barplots_sanity_wealth(df_quantiles_weights, column='actual', country='nga', title='Actual percentage', title_x='Wealth quintile', save=False)\n"
   ]
  },
  {
   "cell_type": "code",
   "execution_count": null,
   "id": "6224aa5a",
   "metadata": {},
   "outputs": [],
   "source": [
    "barplots_sanity_wealth(df_quantiles_weights, column='predicted', T=threshold_probability, country='nga',  title='Predicted percentage (T=%s)'%threshold_probability, title_x='Wealth quintile', save=False)\n"
   ]
  },
  {
   "cell_type": "code",
   "execution_count": null,
   "id": "2812f2e5",
   "metadata": {},
   "outputs": [],
   "source": [
    "predicted_actual_urban_weights = actual_predicted_urban_weights_nga(predicted_actual_target, hh_roster_nga_weights)"
   ]
  },
  {
   "cell_type": "code",
   "execution_count": null,
   "id": "7a0eb59f",
   "metadata": {},
   "outputs": [],
   "source": [
    "barplots_sanity_area(predicted_actual_urban_weights, column='actual', title='Actual percentage', title_x='Area', country='nga', save=False)"
   ]
  },
  {
   "cell_type": "code",
   "execution_count": null,
   "id": "4e065a86",
   "metadata": {},
   "outputs": [],
   "source": [
    "barplots_sanity_area(predicted_actual_urban_weights, column='predicted', T=threshold_probability, title='Predicted percentage (T=%s)'%threshold_probability, title_x='Area', country='nga', save=False)"
   ]
  },
  {
   "cell_type": "code",
   "execution_count": null,
   "id": "fc6f02e7-94ba-44a4-89b7-b279b0a37ba7",
   "metadata": {},
   "outputs": [],
   "source": [
    "#you can run this function after creating the dictionary with the postive/negative rates for each probability threshold\n",
    "create_roc_curve(mn=t, classification=classification, array_fpr=array_fpr, array_tpr=array_tpr, title = \"Ethiopia to Nigeria\", countries='eth_to_nga', l_dict_thresholds_performances=l_dict_thresholds_performances, save=False)"
   ]
  }
 ],
 "metadata": {
  "kernelspec": {
   "display_name": "Python 3 (ipykernel)",
   "language": "python",
   "name": "python3"
  },
  "language_info": {
   "codemirror_mode": {
    "name": "ipython",
    "version": 3
   },
   "file_extension": ".py",
   "mimetype": "text/x-python",
   "name": "python",
   "nbconvert_exporter": "python",
   "pygments_lexer": "ipython3",
   "version": "3.9.21"
  }
 },
 "nbformat": 4,
 "nbformat_minor": 5
}
