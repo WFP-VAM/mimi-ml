{
 "cells": [
  {
   "cell_type": "code",
   "execution_count": null,
   "id": "3d6a247b",
   "metadata": {},
   "outputs": [],
   "source": [
    "import sys\n",
    "sys.path.append('../')\n",
    "%reload_ext autoreload \n",
    "%autoreload 2"
   ]
  },
  {
   "cell_type": "code",
   "execution_count": null,
   "id": "5ce0bf2c",
   "metadata": {
    "scrolled": true
   },
   "outputs": [],
   "source": [
    "from classification_class import Classification\n",
    "from cross_country_functions import *"
   ]
  },
  {
   "cell_type": "markdown",
   "id": "1c6fab43",
   "metadata": {},
   "source": [
    "### Prepare the data:"
   ]
  },
  {
   "cell_type": "code",
   "execution_count": null,
   "id": "39e6f1cf-2106-40f7-a9de-a5490730a3b8",
   "metadata": {},
   "outputs": [],
   "source": [
    "#read the features\n",
    "data_all = pd.read_csv('../data/nga/nga_features.csv', index_col=0)\n",
    "data_all.index = data_all.index.astype(str)"
   ]
  },
  {
   "cell_type": "markdown",
   "id": "1a1c41a7",
   "metadata": {},
   "source": [
    "read the target of interest, e.g., mimi_simple:"
   ]
  },
  {
   "cell_type": "code",
   "execution_count": null,
   "id": "ba6b7678",
   "metadata": {},
   "outputs": [],
   "source": [
    "#targets can be ['va_ai', 'fol_ai', 'vb12_ai', 'fe_ai', 'zn_ai', 'mimi_simple']\n",
    "t = 'mimi_simple'"
   ]
  },
  {
   "cell_type": "code",
   "execution_count": null,
   "id": "dad508a6-75ce-4ae0-97fc-0edc3a6e0072",
   "metadata": {},
   "outputs": [],
   "source": [
    "y = target('../data/ethiopia_nigeria_targets.csv', t, survey_id='NGA_2018_LSS_v01_M')"
   ]
  },
  {
   "cell_type": "markdown",
   "id": "586c360f",
   "metadata": {},
   "source": [
    "prepare the target for classification:"
   ]
  },
  {
   "cell_type": "code",
   "execution_count": null,
   "id": "95fd40a2",
   "metadata": {},
   "outputs": [],
   "source": [
    "y = prepare_target_classes(y, t)"
   ]
  },
  {
   "cell_type": "markdown",
   "id": "a6b1a988",
   "metadata": {},
   "source": [
    "### Classification:"
   ]
  },
  {
   "cell_type": "markdown",
   "id": "fe5964c1",
   "metadata": {},
   "source": [
    "!!! take the random state and best hyper-parameters after resampling 5 times:"
   ]
  },
  {
   "cell_type": "code",
   "execution_count": null,
   "id": "65684df4",
   "metadata": {},
   "outputs": [],
   "source": [
    "best_random_state = pd.read_csv('../data/results/perf_%s_NGA_undersampling_3.2_xgboost.csv'%t).best_random_state[0]"
   ]
  },
  {
   "cell_type": "code",
   "execution_count": null,
   "id": "8982cf78",
   "metadata": {
    "scrolled": true
   },
   "outputs": [],
   "source": [
    "classification = Classification(y, data_all, type_target=t, random_state=best_random_state, sampling='undersampling', sampling_strategy=1)"
   ]
  },
  {
   "cell_type": "code",
   "execution_count": null,
   "id": "b3fc85f8",
   "metadata": {},
   "outputs": [],
   "source": [
    "dummy = classification.dummy_classification()"
   ]
  },
  {
   "cell_type": "code",
   "execution_count": null,
   "id": "10874bb6",
   "metadata": {},
   "outputs": [],
   "source": [
    "dummy_pred = classification.predictions(dummy)"
   ]
  },
  {
   "cell_type": "code",
   "execution_count": null,
   "id": "fab40a21",
   "metadata": {},
   "outputs": [],
   "source": [
    "dummy_performance_indicators = classification.perf_ind_classification(dummy_pred)"
   ]
  },
  {
   "cell_type": "markdown",
   "id": "e6e5a5bc",
   "metadata": {},
   "source": [
    "train the model getting the best hyperparameters:"
   ]
  },
  {
   "cell_type": "code",
   "execution_count": null,
   "id": "f42ae337",
   "metadata": {},
   "outputs": [],
   "source": [
    "model = classification.xgbclassification_best_model('../data/results/besthyper_%s_NGA_undersampling_3.2_XGBoost.csv'%t)"
   ]
  },
  {
   "cell_type": "markdown",
   "id": "15e3797f",
   "metadata": {},
   "source": [
    "get the predictions:"
   ]
  },
  {
   "cell_type": "code",
   "execution_count": null,
   "id": "9e48c51a",
   "metadata": {},
   "outputs": [],
   "source": [
    "predictions = classification.predictions(model)"
   ]
  },
  {
   "cell_type": "markdown",
   "id": "5b382534",
   "metadata": {},
   "source": [
    "get the performances:"
   ]
  },
  {
   "cell_type": "code",
   "execution_count": null,
   "id": "6a5731e8",
   "metadata": {},
   "outputs": [],
   "source": [
    "performance_indicators = classification.perf_ind_classification(predictions)"
   ]
  },
  {
   "cell_type": "code",
   "execution_count": null,
   "id": "5acdd172",
   "metadata": {},
   "outputs": [],
   "source": [
    "#set the probability threshold\n",
    "threshold_probability = 0.5"
   ]
  },
  {
   "cell_type": "code",
   "execution_count": null,
   "id": "9c9c8187",
   "metadata": {},
   "outputs": [],
   "source": [
    "#Generate dictionary for adjusted performance indicators\n",
    "adjusted_performance_indicators = {}\n",
    "\n",
    "#probalilities\n",
    "y_proba = classification.y_proba(model)\n",
    "\n",
    "#---Performance---\n",
    "if threshold_probability != None:\n",
    "    predictions = predictions_proba(y_proba, threshold_probability)\n",
    "else:\n",
    "    predictions = classification.predictions(model)\n",
    "\n",
    "array_precision, array_recall, average_pre_recall = calculates_precision_recall_auc(y_proba, classification, drop_intermediate=True)\n",
    "#append average_pre_recall on performance_indicators\n",
    "performance_indicators['average_pre_recall'] = average_pre_recall\n",
    "array_fpr, array_tpr, rocauc_score = calculates_roc_auc(y_proba, classification, drop_intermediate=True)\n",
    "#append roc scores on performance_indicators\n",
    "performance_indicators['rocauc_score'] = rocauc_score\n",
    "#calculate adjusted precision-recall and roc values and save them on the adjusted_performance_indicators\n",
    "adjusted_roc_auc, adjusted_average_pre_recall = get_adjusted_values(classification, rocauc_score, average_pre_recall)\n",
    "adjusted_performance_indicators['adjusted_rocauc'] = adjusted_roc_auc\n",
    "adjusted_performance_indicators['adjusted_average_pre_recall'] = adjusted_average_pre_recall"
   ]
  },
  {
   "cell_type": "markdown",
   "id": "f946218d",
   "metadata": {},
   "source": [
    "### Variable importance:"
   ]
  },
  {
   "cell_type": "markdown",
   "id": "de898897",
   "metadata": {},
   "source": [
    "get the shap values:"
   ]
  },
  {
   "cell_type": "code",
   "execution_count": null,
   "id": "8be52602",
   "metadata": {},
   "outputs": [],
   "source": [
    "shap_values=classification.shap_values(model)"
   ]
  },
  {
   "cell_type": "markdown",
   "id": "0d6cb6fb",
   "metadata": {},
   "source": [
    "convert code variable names to meaningful variable names by using lsms information:"
   ]
  },
  {
   "cell_type": "code",
   "execution_count": null,
   "id": "f1fc3aa3-9c71-47a3-8fb0-4873f971b5c3",
   "metadata": {},
   "outputs": [],
   "source": [
    "explanations = pd.read_csv('../data/features_explanations.csv', index_col=0)\n",
    "dict_all = explanations.set_index('codename')['explanation'].to_dict()"
   ]
  },
  {
   "cell_type": "code",
   "execution_count": null,
   "id": "fffe7dc2",
   "metadata": {},
   "outputs": [],
   "source": [
    "trainset = classification.train_test['X_train']"
   ]
  },
  {
   "cell_type": "code",
   "execution_count": null,
   "id": "2bf49df3",
   "metadata": {},
   "outputs": [],
   "source": [
    "trainset = replace_features_col_names(trainset, dict_all)"
   ]
  },
  {
   "cell_type": "code",
   "execution_count": null,
   "id": "d061e1e4-ed8b-4a66-b1c1-61b108c315fc",
   "metadata": {},
   "outputs": [],
   "source": [
    "classification.shap_summary_plot(model, trainset, title=\"Feature importance - risk of inadequate overall intake (NGA)\", display=10, iso3='NGA', titlefontsize=16, save=False)"
   ]
  }
 ],
 "metadata": {
  "kernelspec": {
   "display_name": "Python 3 (ipykernel)",
   "language": "python",
   "name": "python3"
  },
  "language_info": {
   "codemirror_mode": {
    "name": "ipython",
    "version": 3
   },
   "file_extension": ".py",
   "mimetype": "text/x-python",
   "name": "python",
   "nbconvert_exporter": "python",
   "pygments_lexer": "ipython3",
   "version": "3.9.21"
  }
 },
 "nbformat": 4,
 "nbformat_minor": 5
}
