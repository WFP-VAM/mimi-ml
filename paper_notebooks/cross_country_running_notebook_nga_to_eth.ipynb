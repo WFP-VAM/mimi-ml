{
 "cells": [
  {
   "cell_type": "code",
   "execution_count": null,
   "id": "8f2b5570",
   "metadata": {},
   "outputs": [],
   "source": [
    "import sys\n",
    "sys.path.append('../')\n",
    "%reload_ext autoreload \n",
    "%autoreload 2"
   ]
  },
  {
   "cell_type": "code",
   "execution_count": null,
   "id": "3d6a247b",
   "metadata": {},
   "outputs": [],
   "source": [
    "from general_functions import *\n",
    "from cross_country_functions import *"
   ]
  },
  {
   "cell_type": "code",
   "execution_count": null,
   "id": "789fc967",
   "metadata": {},
   "outputs": [],
   "source": [
    "from ethiopia_functions import prepare_df_lsms_ram_roster_eth, map_lsms_wfp_adm1, actual_predicted_quantiles_weights_eth, actual_predicted_urban_weights_eth"
   ]
  },
  {
   "cell_type": "code",
   "execution_count": null,
   "id": "8eb818d6",
   "metadata": {},
   "outputs": [],
   "source": [
    "from classification_class import *\n",
    "from cross_country_functions import *"
   ]
  },
  {
   "cell_type": "code",
   "execution_count": null,
   "id": "030ea60e",
   "metadata": {},
   "outputs": [],
   "source": [
    "from visualisations import plot_precision_recall_curve, plot_roc_curve, visualise_actual_predicted_map, scatterplot_actual_predicted_percentage, barplots_sanity_wealth, barplots_sanity_area, create_roc_curve\n"
   ]
  },
  {
   "cell_type": "markdown",
   "id": "1c6fab43",
   "metadata": {},
   "source": [
    "### Prepare the data:"
   ]
  },
  {
   "cell_type": "code",
   "execution_count": null,
   "id": "069a0e04",
   "metadata": {},
   "outputs": [],
   "source": [
    "features = pd.read_csv('../data/all_features.csv', index_col=0)\n",
    "features.index = features.index.astype(str)"
   ]
  },
  {
   "cell_type": "code",
   "execution_count": null,
   "id": "8535bfa5-eb89-4666-ab4d-cb69f093584f",
   "metadata": {},
   "outputs": [],
   "source": [
    "path_to_targets = '../data/ethiopia_nigeria_targets.csv'"
   ]
  },
  {
   "cell_type": "code",
   "execution_count": null,
   "id": "b4aa1f43",
   "metadata": {},
   "outputs": [],
   "source": [
    "path_to_inventory = '../data/inventory_small.xlsx'"
   ]
  },
  {
   "cell_type": "code",
   "execution_count": null,
   "id": "ce0ac191-e37d-4131-a235-8e65f4b55233",
   "metadata": {},
   "outputs": [],
   "source": [
    "hh_roster_eth = pd.read_csv('../data/eth/hh_roster_eth.csv', index_col=0)\n",
    "hh_roster_eth.hhid = hh_roster_eth['household_id'].astype(str)"
   ]
  },
  {
   "cell_type": "markdown",
   "id": "9102f3ed",
   "metadata": {},
   "source": [
    "create list to save the performances for each threshold"
   ]
  },
  {
   "cell_type": "code",
   "execution_count": null,
   "id": "aaa84948",
   "metadata": {},
   "outputs": [],
   "source": [
    "l_dict_thresholds_performances = []"
   ]
  },
  {
   "cell_type": "markdown",
   "id": "73af7de9",
   "metadata": {},
   "source": [
    "Set threshold probability:\n"
   ]
  },
  {
   "cell_type": "code",
   "execution_count": null,
   "id": "8b67b9c4",
   "metadata": {},
   "outputs": [],
   "source": [
    "#manually set the probability threshold, it can be [0.15, 0.85], None is 0.5\n",
    "threshold_probability = 0.5 "
   ]
  },
  {
   "cell_type": "code",
   "execution_count": null,
   "id": "de926b83",
   "metadata": {},
   "outputs": [],
   "source": [
    "#True if you want to save the images\n",
    "save_image = False"
   ]
  },
  {
   "cell_type": "code",
   "execution_count": null,
   "id": "58650cfa-de63-45cb-b837-7a0e4ccc8044",
   "metadata": {},
   "outputs": [],
   "source": [
    "#set the micronutrient\n",
    "t = 'mimi_simple'"
   ]
  },
  {
   "cell_type": "code",
   "execution_count": null,
   "id": "034268d9",
   "metadata": {},
   "outputs": [],
   "source": [
    "all_target_names = {'zn_ai': 'zinc', 'va_ai': 'vitamin A', 'fol_ai': 'folate', \n",
    "                    'vb12_ai': 'vitamin B12', 'fe_ai':'iron', 'mimi_simple': 'overall micronutrient'}"
   ]
  },
  {
   "cell_type": "code",
   "execution_count": null,
   "id": "a991e6a5",
   "metadata": {},
   "outputs": [],
   "source": [
    "#for t in  ['zn_ai', 'va_ai', 'fol_ai', 'vb12_ai', 'fe_ai', 'mimi_simple']:\n",
    "for t in ['mimi_simple']:\n",
    "    \n",
    "    print(t)\n",
    "    \n",
    "    target_name = all_target_names[t]\n",
    "    \n",
    "    y, indexes = prepares_crosscountry_inputs('Nigeria','Ethiopia', t, path_to_targets= path_to_targets)\n",
    "    \n",
    "    #---Model\n",
    "    #get the best random state\n",
    "    best_random_state = pd.read_csv('../data/results/perf_%s_NGA_undersampling_3.2_xgboost.csv'%t, index_col=0).best_random_state[0]\n",
    "    #set the classification object\n",
    "    classification = Classification(y=y, data_all=features, cross_country=True, train_indexes=indexes,\n",
    "                                    type_target=t, random_state=best_random_state, sampling='undersampling',\n",
    "                                    sampling_strategy=1)\n",
    "    #train the model using the best hyperparameters\n",
    "    model = classification.xgbclassification_best_model('../data/results/besthyper_%s_NGA_undersampling_3.2_XGBoost.csv'%t)\n",
    "    \n",
    "    #probalilities\n",
    "    y_proba = classification.y_proba(model)\n",
    "    \n",
    "    #---Performance---\n",
    "    if threshold_probability != None:\n",
    "        predictions = predictions_proba(y_proba, threshold_probability)\n",
    "    else:\n",
    "        predictions = classification.predictions(model)\n",
    "    perf_dict = classification.perf_ind_classification(predictions)\n",
    "    \n",
    "    array_precision, array_recall, average_pre_recall = calculates_precision_recall_auc(y_proba, classification, drop_intermediate=True)\n",
    "    #append average_pre_recall on perf_dict\n",
    "    perf_dict['average_pre_recall'] = average_pre_recall\n",
    "    array_fpr, array_tpr, rocauc_score = calculates_roc_auc(y_proba, classification, drop_intermediate=True)\n",
    "    #append roc scores on perf_dict\n",
    "    perf_dict['rocauc_score'] = rocauc_score\n",
    "    #plot and save precision-recall curve and roc curve\n",
    "    plot_precision_recall_curve(classification, array_recall, array_precision, save=save_image, mn=t, iso3='ETH', title='risk of inadequate %s intake \\n (Nigeria to Ethiopia)' %target_name)\n",
    "    plot_roc_curve(classification, array_fpr, array_tpr, drop_intermediate=True, save=save_image, mn=t, iso3='ETH', title='risk of inadequate %s intake \\n (Nigeria to Ethiopia)' %target_name)\n",
    "    #calculate adjusted precision-recall and roc values and save them on the perf_dict\n",
    "    adjusted_roc_auc, adjusted_average_pre_recall = get_adjusted_values(classification, rocauc_score, average_pre_recall)\n",
    "    perf_dict['adjusted_rocauc'] = adjusted_roc_auc\n",
    "    perf_dict['adjusted_average_pre_recall'] = adjusted_average_pre_recall\n",
    "    \n",
    "    #---Maps---\n",
    "    geo_df = get_geodata(adm0=79)\n",
    "    predicted_actual_target = classification.df_predicted_actual(predictions, t, save=False)\n",
    "    \n",
    "    target_roster = preprocess_roster_actual_predicted(predicted_actual_target, path_to_inventory, survey_id='ETH_2018_ESS_v03_M', hh_roster=hh_roster_eth)\n",
    "    target_roster_geo = map_lsms_wfp_adm1(target_roster)\n",
    "    \n",
    "    actual_predicted_perc = calculate_actual_predicted(target_roster_geo, survey_id='ETH_2018_ESS_v03_M', path_to_inventory=path_to_inventory, weights=True, rank=True)\n",
    "    for column in ['actual', 'predicted']:\n",
    "        if column=='actual':\n",
    "            title=''\n",
    "        else:\n",
    "            title='(T=%s)'%threshold_probability\n",
    "        visualise_actual_predicted_map(geo_df, actual_predicted_perc, column, comparison=True, iso3='ETH', save=save_image, title=title, threshold = threshold_probability, mn=target_name)\n",
    "    for column2 in ['actual_rank', 'predicted_rank']:\n",
    "        visualise_actual_predicted_map(geo_df, actual_predicted_perc, column2, comparison=False, iso3='ETH', save=save_image, mn=target_name)\n",
    "        \n",
    "    #---Save performances---:\n",
    "    for k, v in perf_dict.items():\n",
    "        perf_dict[k] = [v]\n",
    "    df_perf_dict = pd.DataFrame(perf_dict)\n",
    "            \n",
    "    #create a list and save performances for every threshold\n",
    "    dict_thresholds_performances = {'threshold': threshold_probability, 'recall': df_perf_dict.recall[0], 'precision': df_perf_dict.precision[0], 'specificity': df_perf_dict.specificity[0]}\n",
    "    l_dict_thresholds_performances.append(dict_thresholds_performances)"
   ]
  },
  {
   "cell_type": "code",
   "execution_count": null,
   "id": "90cf203f",
   "metadata": {},
   "outputs": [],
   "source": [
    "scatterplot_actual_predicted_percentage(actual_predicted_perc, limin=0.42, limax=1, diff_threshold=0.5,  title='Percentage of risk of inadequate overall intake (NGA to ETH)', iso3='ETH', path = None, fontsize=12, save=False)"
   ]
  },
  {
   "cell_type": "markdown",
   "id": "8d92fa81-0061-4682-9e6e-fbc48eb3aea6",
   "metadata": {},
   "source": [
    "# Sanity checks"
   ]
  },
  {
   "cell_type": "code",
   "execution_count": null,
   "id": "40137397-3785-409c-a27b-013a37c22f8d",
   "metadata": {},
   "outputs": [],
   "source": [
    "df_quantiles_weights = pd.read_csv('../data/eth/df_quantiles_weights_eth.csv', index_col=0) "
   ]
  },
  {
   "cell_type": "code",
   "execution_count": null,
   "id": "0f366a02",
   "metadata": {},
   "outputs": [],
   "source": [
    "df_quantiles_weights = actual_predicted_quantiles_weights_eth(df_quantiles_weights, predicted_actual_target)"
   ]
  },
  {
   "cell_type": "code",
   "execution_count": null,
   "id": "209accb8-42ca-43e0-870c-f1b33ee90109",
   "metadata": {},
   "outputs": [],
   "source": [
    "barplots_sanity_wealth(df_quantiles_weights, column='actual', title='Actual percentage', title_x='Wealth quintile', country='eth', save=False)\n"
   ]
  },
  {
   "cell_type": "code",
   "execution_count": null,
   "id": "a861ceff",
   "metadata": {},
   "outputs": [],
   "source": [
    "barplots_sanity_wealth(df_quantiles_weights, column='predicted', T=threshold_probability, title='Predicted percentage T=%s'%threshold_probability, title_x='Wealth quintile', country='eth', save=False)\n"
   ]
  },
  {
   "cell_type": "code",
   "execution_count": null,
   "id": "659efa65",
   "metadata": {},
   "outputs": [],
   "source": [
    "predicted_actual_urban_weights = actual_predicted_urban_weights_eth(hh_roster_eth, df_quantiles_weights)"
   ]
  },
  {
   "cell_type": "code",
   "execution_count": null,
   "id": "7107e006",
   "metadata": {},
   "outputs": [],
   "source": [
    "barplots_sanity_area(predicted_actual_urban_weights, column='actual', title='Actual percentage',  title_x='Area', country='eth', save=False)"
   ]
  },
  {
   "cell_type": "code",
   "execution_count": null,
   "id": "2738b61e",
   "metadata": {},
   "outputs": [],
   "source": [
    "barplots_sanity_area(predicted_actual_urban_weights, column='predicted', T=threshold_probability,  title='Predicted percentage (T=%s)'%threshold_probability, title_x='Area', country='eth', save=False)"
   ]
  },
  {
   "cell_type": "code",
   "execution_count": null,
   "id": "9bfafc8b-0626-4cd3-b381-5df621ac6f4a",
   "metadata": {},
   "outputs": [],
   "source": [
    "#you can run this function after creating the dictionary with the postive/negative rates for each probability threshold\n",
    "create_roc_curve(mn=t, title = \"Nigeria to Ethiopia\", classification=classification, \n",
    "                 array_tpr=array_tpr, array_fpr=array_fpr, countries='nga_to_eth', \n",
    "                 l_dict_thresholds_performances=l_dict_thresholds_performances, save=False)"
   ]
  }
 ],
 "metadata": {
  "kernelspec": {
   "display_name": "Python 3 (ipykernel)",
   "language": "python",
   "name": "python3"
  },
  "language_info": {
   "codemirror_mode": {
    "name": "ipython",
    "version": 3
   },
   "file_extension": ".py",
   "mimetype": "text/x-python",
   "name": "python",
   "nbconvert_exporter": "python",
   "pygments_lexer": "ipython3",
   "version": "3.9.21"
  }
 },
 "nbformat": 4,
 "nbformat_minor": 5
}
